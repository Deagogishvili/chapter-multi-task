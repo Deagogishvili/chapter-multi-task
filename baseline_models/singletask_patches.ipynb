{
 "cells": [
  {
   "cell_type": "markdown",
   "id": "0928ce10-7670-4e95-b681-882e7ebb4d91",
   "metadata": {},
   "source": [
    "# This notebook contains code for training and testing simple - baseline LHP predictor\n",
    "\n",
    "based on the following paper: \n",
    "Juami Hermine Mariama van Gils, Dea Gogishvili, Jan van Eck, Robbin Bouwmeester, Erik van Dijk, Sanne Abeln, How sticky are our proteins? Quantifying hydrophobicity of the human proteome, Bioinformatics Advances, Volume 2, Issue 1, 2022, vbac002, https://doi.org/10.1093/bioadv/vbac002"
   ]
  },
  {
   "cell_type": "code",
   "execution_count": 4,
   "id": "77558182-4f3e-4980-a8cd-b92401076872",
   "metadata": {},
   "outputs": [],
   "source": [
    "import warnings\n",
    "warnings.filterwarnings(\"ignore\")\n",
    "import numpy as np\n",
    "import pandas as pd\n",
    "from sklearn.model_selection import train_test_split, GridSearchCV\n",
    "from sklearn.ensemble import RandomForestRegressor\n",
    "from sklearn.metrics import r2_score\n",
    "from sklearn.metrics import mean_absolute_error\n",
    "import os "
   ]
  },
  {
   "cell_type": "code",
   "execution_count": 2,
   "id": "23147bdf-9d5c-4bbd-97a9-0c612098d237",
   "metadata": {},
   "outputs": [],
   "source": [
    "data_path = os.path.dirname(os.getcwd()) + '/data'"
   ]
  },
  {
   "cell_type": "code",
   "execution_count": 3,
   "id": "33216cbb-1831-4f1d-bfd8-096732b73a6d",
   "metadata": {},
   "outputs": [
    {
     "name": "stdout",
     "output_type": "stream",
     "text": [
      "all entries 10848 21 513 115\n",
      "with patches 6433 9 319 67\n"
     ]
    }
   ],
   "source": [
    "train = pd.read_csv(data_path + '/patches/Train_LHP.csv')\n",
    "CASP12_LHP = pd.read_csv(data_path + '/patches/CASP12_LHP.csv')\n",
    "CB513_LHP = pd.read_csv(data_path + '/patches/CB513_LHP.csv')\n",
    "TS115_LHP = pd.read_csv(data_path + '/patches/TS115_LHP.csv')\n",
    "\n",
    "print('all entries', len(train),len(CASP12_LHP),len(CB513_LHP),len(TS115_LHP))\n",
    "train = train[train['LHP'] > 0]\n",
    "CASP12_LHP = CASP12_LHP[CASP12_LHP['LHP'] > 0]\n",
    "CB513_LHP = CB513_LHP[CB513_LHP['LHP'] > 0]\n",
    "TS115_LHP = TS115_LHP[TS115_LHP['LHP'] > 0]\n",
    "print('with patches', len(train),len(CASP12_LHP),len(CB513_LHP),len(TS115_LHP))"
   ]
  },
  {
   "cell_type": "code",
   "execution_count": 9,
   "id": "4e903bcb-b2d2-4a5d-ac07-2e92e9ad25af",
   "metadata": {},
   "outputs": [
    {
     "name": "stdout",
     "output_type": "stream",
     "text": [
      "Best Parameters: {'max_depth': 4}\n",
      "Test R^2 Score: 0.5986436924187686\n"
     ]
    }
   ],
   "source": [
    "# Extract features and labels\n",
    "df = train.copy()\n",
    "X = df[['THSA', 'RHSA']]\n",
    "y = df['LHP']\n",
    "\n",
    "# Split the data into training and test sets\n",
    "X_train, X_test, y_train, y_test = train_test_split(X, y, test_size=0.2, random_state=42)\n",
    "\n",
    "# Define the Random Forest Regressor model\n",
    "rf_model = RandomForestRegressor()\n",
    "\n",
    "# Define the parameter grid for grid search\n",
    "param_grid = {'max_depth': [2, 3, 4]}\n",
    "\n",
    "# Perform GridSearchCV with cross-validation\n",
    "grid_search = GridSearchCV(estimator=rf_model, param_grid=param_grid, cv=5, scoring='r2')\n",
    "grid_search.fit(X_train, y_train)\n",
    "\n",
    "# Get the best model from grid search\n",
    "best_rf_model = grid_search.best_estimator_\n",
    "\n",
    "# Print the best parameters found during the grid search\n",
    "print(\"Best Parameters:\", grid_search.best_params_)\n",
    "\n",
    "# Evaluate the model on the test set\n",
    "y_pred = best_rf_model.predict(X_test)\n",
    "test_r2_score = r2_score(y_test, y_pred)\n",
    "\n",
    "print(\"Test R^2 Score:\", test_r2_score)"
   ]
  },
  {
   "cell_type": "code",
   "execution_count": 10,
   "id": "d15fde45-d9b7-4c9a-bc0b-60ef0d4b1f50",
   "metadata": {},
   "outputs": [],
   "source": [
    "# Predict on independent datasets\n",
    "pred_independent_1 = best_rf_model.predict(CASP12_LHP[['THSA', 'RHSA']])\n",
    "pred_independent_2 = best_rf_model.predict(CB513_LHP[['THSA', 'RHSA']])\n",
    "pred_independent_3 = best_rf_model.predict(TS115_LHP[['THSA', 'RHSA']])"
   ]
  },
  {
   "cell_type": "code",
   "execution_count": 11,
   "id": "2b13215c-8986-43d7-ad82-b1fd40ad283b",
   "metadata": {},
   "outputs": [
    {
     "name": "stdout",
     "output_type": "stream",
     "text": [
      "MAE for Independent Dataset 1: 180.13070679986419\n",
      "MAE for Independent Dataset 2: 363.3577643331509\n",
      "MAE for Independent Dataset 3: 332.7504139851342\n"
     ]
    }
   ],
   "source": [
    "# Calculate MAE for independent dataset 1\n",
    "mae_independent_1 = mean_absolute_error(CASP12_LHP['LHP'], pred_independent_1)\n",
    "\n",
    "# Calculate MAE for independent dataset 2\n",
    "mae_independent_2 = mean_absolute_error(CB513_LHP['LHP'], pred_independent_2)\n",
    "\n",
    "# Calculate MAE for independent dataset 3\n",
    "mae_independent_3 = mean_absolute_error(TS115_LHP['LHP'], pred_independent_3)\n",
    "\n",
    "# Print MAE for each independent dataset\n",
    "print(\"MAE for Independent Dataset 1:\", mae_independent_1)\n",
    "print(\"MAE for Independent Dataset 2:\", mae_independent_2)\n",
    "print(\"MAE for Independent Dataset 3:\", mae_independent_3)"
   ]
  }
 ],
 "metadata": {
  "kernelspec": {
   "display_name": "Python 3 (ipykernel)",
   "language": "python",
   "name": "python3"
  },
  "language_info": {
   "codemirror_mode": {
    "name": "ipython",
    "version": 3
   },
   "file_extension": ".py",
   "mimetype": "text/x-python",
   "name": "python",
   "nbconvert_exporter": "python",
   "pygments_lexer": "ipython3",
   "version": "3.9.7"
  }
 },
 "nbformat": 4,
 "nbformat_minor": 5
}
