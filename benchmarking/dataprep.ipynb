{
 "cells": [
  {
   "cell_type": "code",
   "execution_count": 1,
   "id": "15251fdc-b8fd-404c-8783-f4ae5c92c339",
   "metadata": {},
   "outputs": [],
   "source": [
    "import warnings\n",
    "warnings.filterwarnings(\"ignore\")\n",
    "import os\n",
    "import numpy as np\n",
    "import pandas as pd"
   ]
  },
  {
   "cell_type": "markdown",
   "id": "513c5d87-2cf2-4165-b4b9-62f75d5e7718",
   "metadata": {},
   "source": [
    "# Define paths"
   ]
  },
  {
   "cell_type": "code",
   "execution_count": 2,
   "id": "0f62dcf1-c5a8-47c2-a38f-ade132de214b",
   "metadata": {},
   "outputs": [],
   "source": [
    "data_path = os.path.dirname(os.getcwd()) + '/data/'\n",
    "figure_path = os.path.dirname(os.getcwd()) + '/figures'\n",
    "url_template = 'http://www.rcsb.org/pdb/files/{}.pdb'\n",
    "rest_url='https://www3.cmbi.umcn.nl/xssp/'"
   ]
  },
  {
   "cell_type": "markdown",
   "id": "e4f5c704-da10-415c-9ef9-c22b61a7dd5e",
   "metadata": {},
   "source": [
    "# Load the test data"
   ]
  },
  {
   "cell_type": "code",
   "execution_count": 3,
   "id": "651c4e65-591d-4cbf-9ca5-746e4cf3b5fa",
   "metadata": {},
   "outputs": [],
   "source": [
    "df_test = pd.read_csv(data_path + '/benchmarking/test_data.csv')\n",
    "df_test = df_test[['id','dssp_sequence']]"
   ]
  },
  {
   "cell_type": "code",
   "execution_count": 4,
   "id": "680f4738-9e5a-4dda-8842-b7543bb31091",
   "metadata": {},
   "outputs": [],
   "source": [
    "with open(data_path + 'benchmarking/benchmark.txt', 'w') as f: # or .fasta\n",
    "    for index, row in df_test.iterrows():\n",
    "        pdb_id = row['id']\n",
    "        sequence = row['dssp_sequence']\n",
    "        f.write(f'>{pdb_id}\\n{sequence}\\n')"
   ]
  },
  {
   "cell_type": "markdown",
   "id": "c5462b51-cbd9-4392-a86d-a197014df2c4",
   "metadata": {},
   "source": [
    "# Preprocess patchprot predictions"
   ]
  },
  {
   "cell_type": "code",
   "execution_count": 9,
   "id": "af7dca1b-16dc-430d-8451-644eeec62a65",
   "metadata": {},
   "outputs": [],
   "source": [
    "predictions = pd.read_csv(data_path + '/benchmarking/patchprot_predictions.csv')\n",
    "predictions['id'] = predictions['ID']"
   ]
  },
  {
   "cell_type": "code",
   "execution_count": 10,
   "id": "caa1d25c-9023-481c-9218-3cf70283b77f",
   "metadata": {},
   "outputs": [],
   "source": [
    "# prediction_ids = list(predictions['ID'])\n",
    "# failed = df_test[~df_test['id'].isin(prediction_ids)]"
   ]
  },
  {
   "cell_type": "code",
   "execution_count": 11,
   "id": "f8e7a855-b2bb-466a-a645-c56c9ad01000",
   "metadata": {},
   "outputs": [],
   "source": [
    "thsa = predictions[['id','THSA_predicted']]\n",
    "thsa['prediction'] = thsa['THSA_predicted']\n",
    "\n",
    "rhsa = predictions[['id','RHSA_predicted']]\n",
    "rhsa['prediction'] = rhsa['RHSA_predicted']\n",
    "\n",
    "lhp = predictions[['id','LHP_predicted']]\n",
    "lhp['prediction'] = lhp['LHP_predicted']"
   ]
  },
  {
   "cell_type": "code",
   "execution_count": 12,
   "id": "4f7b414b-0a8c-434c-a837-3a4c2e99b243",
   "metadata": {},
   "outputs": [],
   "source": [
    "thsa.to_csv(data_path + 'benchmarking/thsa_patchprot_prediction.csv')\n",
    "rhsa.to_csv(data_path + 'benchmarking/rhsa_patchprot_prediction.csv')\n",
    "lhp.to_csv(data_path + 'benchmarking/lhp_patchprot_prediction.csv')"
   ]
  }
 ],
 "metadata": {
  "kernelspec": {
   "display_name": "Python 3 (ipykernel)",
   "language": "python",
   "name": "python3"
  },
  "language_info": {
   "codemirror_mode": {
    "name": "ipython",
    "version": 3
   },
   "file_extension": ".py",
   "mimetype": "text/x-python",
   "name": "python",
   "nbconvert_exporter": "python",
   "pygments_lexer": "ipython3",
   "version": "3.9.7"
  }
 },
 "nbformat": 4,
 "nbformat_minor": 5
}
