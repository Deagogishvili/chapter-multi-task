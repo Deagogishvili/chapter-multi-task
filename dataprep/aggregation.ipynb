{
 "cells": [
  {
   "cell_type": "code",
   "execution_count": 1,
   "id": "f352652a-31b9-4a14-8c67-064be5fb811b",
   "metadata": {},
   "outputs": [],
   "source": [
    "import warnings\n",
    "warnings.filterwarnings(\"ignore\")\n",
    "import numpy as np\n",
    "import pandas as pd\n",
    "import os "
   ]
  },
  {
   "cell_type": "markdown",
   "id": "3038d991-fa41-48aa-ad8f-0f564eca7615",
   "metadata": {},
   "source": [
    "# Paths"
   ]
  },
  {
   "cell_type": "markdown",
   "id": "00f5d59f-dcbe-4760-aff4-8033b4f172fb",
   "metadata": {},
   "source": [
    "google drive: https://drive.google.com/drive/folders/1NcerEtJUn6eULDLdu2l-WPdzvTTw6mFE?usp=sharing"
   ]
  },
  {
   "cell_type": "code",
   "execution_count": 2,
   "id": "bc5b6df2-c867-471e-bfe1-b91eb52b475b",
   "metadata": {},
   "outputs": [],
   "source": [
    "data_path = os.path.dirname(os.getcwd()) + '/data/'\n",
    "\n",
    "train_csv = pd.read_csv(data_path + '/aggregation/AggBERT_train.csv')\n",
    "test_csv = pd.read_csv(data_path + '/aggregation/AggBERT_test.csv')"
   ]
  },
  {
   "cell_type": "code",
   "execution_count": 3,
   "id": "d9072433-30b3-443c-837b-abe45ede6489",
   "metadata": {},
   "outputs": [
    {
     "name": "stderr",
     "output_type": "stream",
     "text": [
      "Traceback (most recent call last):\n",
      "  File \"/Users/Eck00018/Documents/PhD/dea_chapter_multi_task/chapter-multi-task/.conda/lib/python3.11/site-packages/debugpy/_vendored/pydevd/_pydevd_bundle/pydevd_vars.py\", line 624, in change_attr_expression\n",
      "    value = eval(expression, frame.f_globals, frame.f_locals)\n",
      "            ^^^^^^^^^^^^^^^^^^^^^^^^^^^^^^^^^^^^^^^^^^^^^^^^^\n",
      "  File \"<string>\", line 1, in <module>\n",
      "NameError: name 'array' is not defined\n"
     ]
    }
   ],
   "source": [
    "agg = np.eye(2)\n",
    "agg_data_train = np.array(train_csv['label'])\n",
    "agg_data_test = np.array(test_csv['label'])\n",
    "\n",
    "AA = ['A','C','D','E','F','G','H','I','K','L','M','N','P','Q','R','S','T','V','W','Y']\n",
    "nb_values = np.eye(20)\n",
    "translate = lambda x: AA.index(x)\n",
    "raw_seq_train = np.array(train_csv['Sequence'])\n",
    "raw_seq_test = np.array(test_csv['Sequence'])\n",
    "sequences_train = np.array([list(map(translate, seq)) for seq in raw_seq_train])\n",
    "sequences_test = np.array([list(map(translate, seq)) for seq in raw_seq_test])\n",
    "one_hot_seq_train = np.array([nb_values[seq] for seq in sequences_train])\n",
    "one_hot_seq_test = np.array([nb_values[seq] for seq in sequences_test])\n",
    "\n",
    "data_train = np.empty((len(sequences_train), 6, 97))\n",
    "data_train[:, :, 50:53] = 1\n",
    "data_test = np.empty((len(sequences_test), 6, 97))\n",
    "data_test[:, :, 50:53] = 1\n",
    "names_train = []\n",
    "names_test = []\n",
    "for i in range(len(one_hot_seq_train)):\n",
    "    data_train[i, 0, 95:97] = agg[agg_data_train[i]]\n",
    "    data_train[i, :, :20] = one_hot_seq_train[i]\n",
    "    names_train.append(f'AGGTrain{i:04}')\n",
    "for i in range(len(one_hot_seq_test)):\n",
    "    data_test[i, 0, 95:97] = agg[agg_data_test[i]]\n",
    "    data_test[i, :, :20] = one_hot_seq_test[i]\n",
    "    names_test.append(f'AGGTest{i:04}')"
   ]
  },
  {
   "cell_type": "code",
   "execution_count": 4,
   "id": "543339cd-1c79-47a0-a446-f5c40de85809",
   "metadata": {},
   "outputs": [
    {
     "name": "stdout",
     "output_type": "stream",
     "text": [
      "(1122, 6, 97)\n",
      "(277, 6, 97)\n"
     ]
    }
   ],
   "source": [
    "np.savez_compressed(data_path + '/aggregation/Train_aggregation.npz', pdbids = names_train, data = data_train)\n",
    "np.savez_compressed(data_path + '/aggregation/Test_aggregation.npz', pdbids = names_test, data = data_test)\n",
    "print(data_train.shape)\n",
    "print(data_test.shape)"
   ]
  },
  {
   "cell_type": "markdown",
   "id": "fb2a4079-084a-47b3-ab32-f65f8b39d6ca",
   "metadata": {},
   "source": [
    "# Fuse with the rest of the data"
   ]
  },
  {
   "cell_type": "code",
   "execution_count": 8,
   "id": "43ecc92c-f7e8-4ec6-a185-7e7e9450da07",
   "metadata": {},
   "outputs": [],
   "source": [
    "data_path = os.path.dirname(os.getcwd()) + '/data/'\n",
    "\n",
    "train_data = np.load(data_path + 'aggregation/Train_aggregation.npz')\n",
    "test_data = np.load(data_path + 'aggregation/Test_aggregation.npz')\n",
    "\n",
    "tot_train = np.load('/Users/deagogishvili/Documents/PhD/multitask/data/extended/Train_HHblits_extended.npz')\n",
    "path_tot_test = ['/Users/deagogishvili/Documents/PhD/multitask/data/extended/CASP12_HHblits_extended.npz', \n",
    "                 '/Users/deagogishvili/Documents/PhD/multitask/data/extended/TS115_HHblits_extended.npz', \n",
    "                 '/Users/deagogishvili/Documents/PhD/multitask/data/extended/CB513_HHblits_extended.npz']"
   ]
  },
  {
   "cell_type": "code",
   "execution_count": 9,
   "id": "c8dfae6f-7886-4c6c-ab9c-0ff4e9cda35b",
   "metadata": {},
   "outputs": [],
   "source": [
    "pdbids1 = tot_train['pdbids']\n",
    "pdbids2 = train_data['pdbids']\n",
    "\n",
    "pdbids_train = []\n",
    "pdbids_train.extend(pdbids1)\n",
    "pdbids_train.extend(pdbids2)\n",
    "\n",
    "#pdbids_train = tot_train['pdbids']\n",
    "seq_train = np.concatenate([tot_train['data'], np.zeros((tot_train['data'].shape[0], tot_train['data'].shape[1], 2))], axis = 2) \n",
    "train_data_cat = np.concatenate([train_data['data'], np.zeros((train_data['data'].shape[0], \n",
    "                                                               seq_train.shape[1] - train_data['data'].shape[1], seq_train.shape[2]))], axis = 1)\n",
    "extended_train = np.concatenate([seq_train, train_data_cat], axis = 0)"
   ]
  },
  {
   "cell_type": "code",
   "execution_count": 31,
   "id": "f2839e82-40f4-4947-8568-eb6dfc2c2730",
   "metadata": {},
   "outputs": [],
   "source": [
    "test_sets = []\n",
    "test_pdbids = []\n",
    "for i in path_tot_test:\n",
    "    with np.load(i) as data:\n",
    "        pdbids_test1 = data['pdbids']\n",
    "        pdbids_test2 = test_data['pdbids']\n",
    "        seq_test = np.concatenate([data['data'], np.zeros((data['data'].shape[0], data['data'].shape[1], 2))], axis = 2) \n",
    "        test_data_cat = np.concatenate([test_data['data'], np.zeros((test_data['data'].shape[0], \n",
    "                                                               seq_test.shape[1] - test_data['data'].shape[1], seq_test.shape[2]))], axis = 1)\n",
    "        new_set = np.concatenate([seq_test, test_data_cat], axis = 0)\n",
    "        test_sets.append(new_set)\n",
    "        \n",
    "        pdbids_test = []\n",
    "        pdbids_test.extend(pdbids_test1)\n",
    "        pdbids_test.extend(pdbids_test2)\n",
    "        test_pdbids.append(pdbids_test)\n",
    "        \n",
    "np.savez_compressed('/Users/deagogishvili/Documents/PhD/multitask/data/extended/Train_extended_aggregation.npz', pdbids = pdbids_train, data = extended_train)\n",
    "names = ['/Users/deagogishvili/Documents/PhD/multitask/data/extended/CASP12_extended_aggregation.npz', \n",
    "         '/Users/deagogishvili/Documents/PhD/multitask/data/extended/TS115_extended_aggregation.npz', \n",
    "         '/Users/deagogishvili/Documents/PhD/multitask/data/extended/CB513_extended_aggregation.npz']\n",
    "for name, data, pdbids in zip(names, test_sets, test_pdbids):\n",
    "    np.savez_compressed(name, pdbids = pdbids, data = data)"
   ]
  }
 ],
 "metadata": {
  "kernelspec": {
   "display_name": "Python 3 (ipykernel)",
   "language": "python",
   "name": "python3"
  },
  "language_info": {
   "codemirror_mode": {
    "name": "ipython",
    "version": 3
   },
   "file_extension": ".py",
   "mimetype": "text/x-python",
   "name": "python",
   "nbconvert_exporter": "python",
   "pygments_lexer": "ipython3",
   "version": "3.11.8"
  }
 },
 "nbformat": 4,
 "nbformat_minor": 5
}
