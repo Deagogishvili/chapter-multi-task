{
 "cells": [
  {
   "cell_type": "code",
   "execution_count": null,
   "metadata": {},
   "outputs": [
    {
     "ename": "",
     "evalue": "",
     "output_type": "error",
     "traceback": [
      "\u001b[1;31mFailed to start the Kernel. \n",
      "\u001b[1;31mUnable to start Kernel '.conda (Python 3.11.8)' due to a connection timeout. \n",
      "\u001b[1;31mView Jupyter <a href='command:jupyter.viewOutput'>log</a> for further details."
     ]
    }
   ],
   "source": [
    "import pandas as pd\n",
    "from Bio.PDB import PDBParser, parse_pdb_header\n",
    "import ast\n",
    "import numpy as np\n",
    "import os\n",
    "from Bio.SeqUtils import seq1"
   ]
  },
  {
   "cell_type": "code",
   "execution_count": 32,
   "metadata": {},
   "outputs": [],
   "source": [
    "def parse_pdb(pdb_id):\n",
    "    \"\"\"\n",
    "    Parse the PDB file and return a DataFrame with amino acid information.\n",
    "    \"\"\"\n",
    "    pdb_id, chain_input = pdb_id.split('_')\n",
    "    path_to_pdb_dir = \"/Users/Eck00018/Documents/PhD/dea_chapter_multi_task/chapter-multi-task/data/molpatch/input/\"\n",
    "    path_to_pdb_processed_dir = \"/Users/Eck00018/Documents/PhD/dea_chapter_multi_task/chapter-multi-task/data/molpatch/processed/\"\n",
    "    path_to_pdb_input = f\"{path_to_pdb_dir}{pdb_id}.pdb\"\n",
    "    path_to_pdb_processed = f\"{path_to_pdb_processed_dir}{pdb_id}_{chain_input}.pdb\"\n",
    "    data = []\n",
    "\n",
    "    missing_residues = parse_pdb_header(path_to_pdb_input)['missing_residues']\n",
    "\n",
    "    for missing_residue in missing_residues:\n",
    "        if missing_residue['chain'].lower() != chain_input.lower():\n",
    "            continue\n",
    "        data.append({\n",
    "                'pdbid': pdb_id,\n",
    "                'chain': missing_residue['chain'],\n",
    "                'pdb_index': missing_residue['ssseq'],\n",
    "                'amino_acid': seq1(missing_residue['res_name'])\n",
    "            })\n",
    "\n",
    "    parser = PDBParser()\n",
    "    structure = parser.get_structure(pdb_id, path_to_pdb_processed)[0]\n",
    "\n",
    "    for chain in structure:\n",
    "        chain_id = chain.id\n",
    "        if chain_id.lower() != chain_input.lower():\n",
    "            continue\n",
    "        for residue in chain:\n",
    "            residue_id = residue.id[1]\n",
    "            amino_acid = residue.get_resname()\n",
    "\n",
    "            data.append({\n",
    "                'pdbid': pdb_id,\n",
    "                'chain': chain_id,\n",
    "                'pdb_index': residue_id,\n",
    "                'amino_acid': seq1(amino_acid)\n",
    "            })\n",
    "\n",
    "    return pd.DataFrame(data).sort_values(by=\"pdb_index\").reset_index(drop=True)"
   ]
  },
  {
   "cell_type": "code",
   "execution_count": 33,
   "metadata": {},
   "outputs": [],
   "source": [
    "def prepare_patches_df(path_to_csv):\n",
    "    \"\"\"\n",
    "    Read the patches CSV, process the data, and return the DataFrame.\n",
    "    \"\"\"\n",
    "    df_patches = pd.read_csv(path_to_csv)\n",
    "    df_patches['residue_ID'] = df_patches['residue_ID'].apply(lambda x: ast.literal_eval(x))\n",
    "    df_patches['chain'] = df_patches['residue_ID'].apply(lambda x: x[0])\n",
    "    df_patches['pdb_index'] = df_patches['residue_ID'].apply(lambda x: x[1][1])\n",
    "    df_patches.drop(columns=['residue_ID', 'protein_id', 'patch_rank', 'residue_type'], inplace=True)\n",
    "    return df_patches"
   ]
  },
  {
   "cell_type": "code",
   "execution_count": 34,
   "metadata": {},
   "outputs": [],
   "source": [
    "def merge_dataframes(df_amino_acids, df_patches):\n",
    "    \"\"\"\n",
    "    Merge amino acid DataFrame with patches DataFrame and return the merged DataFrame.\n",
    "    \"\"\"\n",
    "    merged_df = pd.merge(df_amino_acids, df_patches, on=['pdb_index', 'chain'], how='left')\n",
    "    merged_df['patch_size'] = merged_df['patch_size'].fillna(-1)\n",
    "    max_patch_size_index = merged_df.groupby(['pdb_index', 'chain'])['patch_size'].idxmax()\n",
    "    merged_df = merged_df.loc[max_patch_size_index]\n",
    "    merged_df['patch_size'] = merged_df['patch_size'].replace(-1, np.nan)\n",
    "    merged_df = merged_df.reset_index(drop=True)\n",
    "    return merged_df"
   ]
  },
  {
   "cell_type": "code",
   "execution_count": 35,
   "metadata": {},
   "outputs": [
    {
     "name": "stderr",
     "output_type": "stream",
     "text": [
      "/Users/Eck00018/Documents/PhD/dea_chapter_multi_task/chapter-multi-task/.conda/lib/python3.11/site-packages/Bio/PDB/StructureBuilder.py:127: PDBConstructionWarning: WARNING: Residue (' ', 21, ' ') redefined at line 182.\n",
      "  warnings.warn(\n",
      "/Users/Eck00018/Documents/PhD/dea_chapter_multi_task/chapter-multi-task/.conda/lib/python3.11/site-packages/Bio/PDB/Atom.py:232: PDBConstructionWarning: Could not assign element 'X' for Atom (name=XE1) with given element 'X'\n",
      "  warnings.warn(msg, PDBConstructionWarning)\n",
      "/Users/Eck00018/Documents/PhD/dea_chapter_multi_task/chapter-multi-task/.conda/lib/python3.11/site-packages/Bio/PDB/Atom.py:232: PDBConstructionWarning: Could not assign element 'X' for Atom (name=XE2) with given element 'X'\n",
      "  warnings.warn(msg, PDBConstructionWarning)\n",
      "/Users/Eck00018/Documents/PhD/dea_chapter_multi_task/chapter-multi-task/.conda/lib/python3.11/site-packages/Bio/PDB/StructureBuilder.py:127: PDBConstructionWarning: WARNING: Residue (' ', 93, ' ') redefined at line 761.\n",
      "  warnings.warn(\n",
      "/Users/Eck00018/Documents/PhD/dea_chapter_multi_task/chapter-multi-task/.conda/lib/python3.11/site-packages/Bio/PDB/StructureBuilder.py:127: PDBConstructionWarning: WARNING: Residue (' ', 20, ' ') redefined at line 161.\n",
      "  warnings.warn(\n",
      "/Users/Eck00018/Documents/PhD/dea_chapter_multi_task/chapter-multi-task/.conda/lib/python3.11/site-packages/Bio/PDB/StructureBuilder.py:127: PDBConstructionWarning: WARNING: Residue (' ', 1, ' ') redefined at line 8.\n",
      "  warnings.warn(\n",
      "/Users/Eck00018/Documents/PhD/dea_chapter_multi_task/chapter-multi-task/.conda/lib/python3.11/site-packages/Bio/PDB/StructureBuilder.py:127: PDBConstructionWarning: WARNING: Residue (' ', 15, ' ') redefined at line 145.\n",
      "  warnings.warn(\n",
      "/Users/Eck00018/Documents/PhD/dea_chapter_multi_task/chapter-multi-task/.conda/lib/python3.11/site-packages/Bio/PDB/StructureBuilder.py:127: PDBConstructionWarning: WARNING: Residue (' ', 15, ' ') redefined at line 154.\n",
      "  warnings.warn(\n",
      "/Users/Eck00018/Documents/PhD/dea_chapter_multi_task/chapter-multi-task/.conda/lib/python3.11/site-packages/Bio/PDB/PDBParser.py:229: PDBConstructionWarning: Negative occupancy in one or more atoms\n",
      "  warnings.warn(\n",
      "/Users/Eck00018/Documents/PhD/dea_chapter_multi_task/chapter-multi-task/.conda/lib/python3.11/site-packages/Bio/PDB/PDBParser.py:229: PDBConstructionWarning: Negative occupancy in one or more atoms\n",
      "  warnings.warn(\n"
     ]
    }
   ],
   "source": [
    "path_to_csv = \"/Users/Eck00018/Documents/PhD/dea_chapter_multi_task/chapter-multi-task/data/molpatch/result/\"\n",
    "path_to_output = \"/Users/Eck00018/Documents/PhD/dea_chapter_multi_task/chapter-multi-task/data/patches/raw/\"\n",
    "\n",
    "for csv_file in os.listdir(path_to_csv):\n",
    "    pdb_id = csv_file.split('.')[0]\n",
    "    pdb_file = pdb_id + \".pdb\"\n",
    "    output_file = pdb_id.upper().replace('_', '') + \".csv\"\n",
    "    df_amino_acids = parse_pdb(pdb_id)\n",
    "    df_patches = prepare_patches_df(path_to_csv + csv_file)\n",
    "    merged_df = merge_dataframes(df_amino_acids, df_patches)\n",
    "    merged_df.to_csv(path_to_output + output_file)\n"
   ]
  }
 ],
 "metadata": {
  "kernelspec": {
   "display_name": "Python 3",
   "language": "python",
   "name": "python3"
  },
  "language_info": {
   "codemirror_mode": {
    "name": "ipython",
    "version": 3
   },
   "file_extension": ".py",
   "mimetype": "text/x-python",
   "name": "python",
   "nbconvert_exporter": "python",
   "pygments_lexer": "ipython3",
   "version": "3.11.8"
  }
 },
 "nbformat": 4,
 "nbformat_minor": 2
}
