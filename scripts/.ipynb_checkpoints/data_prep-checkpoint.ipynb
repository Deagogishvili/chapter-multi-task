{
 "cells": [
  {
   "cell_type": "markdown",
   "id": "5c76eaca-9690-41ce-9e61-378c281f6bf6",
   "metadata": {},
   "source": [
    "## The following notebook contains ...\n",
    "\n",
    "\n",
    "#### Datasets used\n",
    "- \n",
    "\n",
    "#### Workflow\n",
    "- \n",
    "\n",
    "#### Outpoot\n",
    "- "
   ]
  },
  {
   "cell_type": "markdown",
   "id": "78bf4c1f-c19c-4092-9cae-5900ea389bb0",
   "metadata": {},
   "source": [
    "# Import Libraries"
   ]
  },
  {
   "cell_type": "code",
   "execution_count": 1,
   "id": "557b895b-8550-4a87-8c4b-3babe4a9daf4",
   "metadata": {},
   "outputs": [],
   "source": [
    "import warnings\n",
    "warnings.filterwarnings(\"ignore\")\n",
    "import os\n",
    "import numpy as np\n",
    "from tqdm import tqdm\n",
    "import pandas as pd\n",
    "import re \n",
    "import urllib.request\n",
    "import json\n",
    "import os \n",
    "from difflib import SequenceMatcher"
   ]
  },
  {
   "cell_type": "markdown",
   "id": "421b26ee-61ac-4e95-9909-19e2d883c000",
   "metadata": {},
   "source": [
    "# Define paths"
   ]
  },
  {
   "cell_type": "markdown",
   "id": "2f65dbce-5daa-4254-9567-18563412ea40",
   "metadata": {},
   "source": [
    "Google drive = https://drive.google.com/drive/folders/1Z1Er9YgF5Hgiz582Ha1wfujuyFmGsL__?usp=sharing"
   ]
  },
  {
   "cell_type": "code",
   "execution_count": 2,
   "id": "5957f329-1988-42c7-b087-1804372b0537",
   "metadata": {},
   "outputs": [],
   "source": [
    "data_path = os.path.dirname(os.getcwd()) + '/data'\n",
    "local_path = '/Users/deagogishvili/Documents/PhD/multitask/data/'\n",
    "figure_path = os.path.dirname(os.getcwd()) + '/figures'\n",
    "url_template = 'http://www.rcsb.org/pdb/files/{}.pdb'\n",
    "rest_url='https://www3.cmbi.umcn.nl/xssp/'"
   ]
  },
  {
   "cell_type": "markdown",
   "id": "561f1e32-8b46-4324-b41a-5120773d35f8",
   "metadata": {},
   "source": [
    "# Imort data"
   ]
  },
  {
   "cell_type": "code",
   "execution_count": 3,
   "id": "91e4dc54-3031-4cce-8aa0-2bc22512c681",
   "metadata": {},
   "outputs": [],
   "source": [
    "expression_file=pd.read_csv(data_path + '/expression/expression.csv')\n",
    "expression=dict(zip(list(expression_file.PDB_ID),list(expression_file.Expression)))\n",
    "species=dict(zip(list(expression_file.PDB_ID),list(expression_file.Species)))\n",
    "patches = os.listdir(local_path + '/MolPatch/trying_no_multichain')\n",
    "\n",
    "AA = ['A','C','D','E','F','G','H','I','K','L','M','N','P','Q','R','S','T','V','W','Y']\n",
    "HYDR = ['A','C','F','I','L','M','V','W','Y']\n",
    "SPEC = dict(zip(list(expression_file.Species.value_counts().index[:10]),range(0,10)))\n",
    "EXP = np.percentile(expression_file[~expression_file.Expression.isnull()].Expression, np.arange(0,100,10)).tolist()"
   ]
  },
  {
   "cell_type": "code",
   "execution_count": 57,
   "id": "bff7fed6-6a23-4366-8801-a5d8725602b2",
   "metadata": {},
   "outputs": [],
   "source": [
    "aggregation_train = pd.read_csv(data_path + '/aggregation/AggBERT_train.csv')\n",
    "aggregation_test = pd.read_csv(data_path + '/aggregation/AggBERT_test.csv')\n",
    "aggregation_train['Classification'] = np.where(aggregation_train['label']==1, 'amyloid', 'non-amyloid')\n",
    "aggregation_train['PDB_ID'] = aggregation_train['Sequence'] + '.pdb'\n",
    "aggregation_test['Classification'] = np.where(aggregation_test['label']==1, 'amyloid', 'non-amyloid')\n",
    "aggregation_test['PDB_ID'] = aggregation_test['Sequence'] + '.pdb'"
   ]
  },
  {
   "cell_type": "code",
   "execution_count": 56,
   "id": "2057e8bf-d8a7-4b24-a602-e1cf63dd1227",
   "metadata": {},
   "outputs": [],
   "source": [
    "# create an empty array\n",
    "aggregation_data = np.zeros((aggregation_train.shape[0], 97))\n",
    "\n",
    "# create dictionarry\n",
    "AGG = dict(zip(list(aggregation_train.Classification.value_counts().index[:2]),range(0,2)))\n",
    "\n",
    "# Iterate over the DataFrame and populate the last two columns of the 'aggregation_data' array\n",
    "for index, row in aggregation_train.iterrows():\n",
    "    # Index for the corresponding row in the array\n",
    "    array_index = index\n",
    "    classification = row['Classification']\n",
    "    # Map the amyloid classification to the numeric representation\n",
    "    if classification in AGG:\n",
    "        aggregation_data[array_index, -2:] = AGG[classification]"
   ]
  },
  {
   "cell_type": "code",
   "execution_count": 21,
   "id": "771f7516-722f-44e6-9227-9ef877138f57",
   "metadata": {},
   "outputs": [],
   "source": [
    "def retrieve_uniprot(pdbid):\n",
    "    try:\n",
    "        protein=pdbid\n",
    "        url = url_template.format(protein.upper()[:4])\n",
    "        response = urllib.request.urlopen(url)\n",
    "        pdb = response.read().decode('utf-8')\n",
    "        response.close()\n",
    "        m = re.search('UNP\\ +(\\w+)', pdb)\n",
    "        return m.group(1)  \n",
    "    except:\n",
    "        None"
   ]
  },
  {
   "cell_type": "code",
   "execution_count": 22,
   "id": "633b2035-d98d-41fa-a762-1c24604c9e18",
   "metadata": {},
   "outputs": [],
   "source": [
    "def get_ASA(data,list_data):\n",
    "    new_data=np.zeros((len(data),len(data[0]),95))\n",
    "    print(new_data.shape)\n",
    "    for i in tqdm(range(len(data))):\n",
    "        #Column len(AA)\n",
    "        column=np.zeros((len(data[i]),27))\n",
    "        mask = np.count_nonzero(data[i,:,50])\n",
    "        \n",
    "        #Column 0 equals TASA = sum(RSA*ASAmax)\n",
    "        tasa=sum(data[i,:,53]*data[i,:,50])\n",
    "        hydr=[bool(AA[k] in HYDR) for k in np.argmax(data[i,:,:20],axis=-1)]\n",
    "        #Column 1 equals THSA = sum(RSA*ASAmax*hydr_mask)\n",
    "        thsa=sum(data[i,:,53]*data[i,:,50]*hydr)\n",
    "        #Column 2 equals RHSA = sum(RSA*ASAmax*hydr_mask)/sum(RSA*ASAmax)\n",
    "        rhsa=thsa/tasa\n",
    "        column[0,0]=round(tasa,1)\n",
    "        column[0,1]=round(thsa,1)\n",
    "        column[0,2]=round(rhsa,5)\n",
    "\n",
    "        #Column 3 equals Patch Size\n",
    "        id_patch=list_data[i].replace('-','').upper()\n",
    "        if id_patch+'.csv' in patches: \n",
    "            patch_info = pd.read_csv(os.path.join(local_path + 'MolPatch','residue_info_split',f'{id_patch}.csv'))\n",
    "            # Checking if we can find a match between our two files\n",
    "            data_fasta = ''.join([AA[k] for k in np.argmax(data[i,:mask,:20],axis=-1)])\n",
    "            patch_fasta = ''.join(list(patch_info.residue))\n",
    "            s = SequenceMatcher(None, patch_fasta, data_fasta)\n",
    "            Match = s.find_longest_match(0, len(patch_fasta), 0, len(data_fasta))\n",
    "            if Match.size/max(len(data_fasta),len(patch_fasta))>0.8:                \n",
    "                patch_column = np.nan_to_num(np.array(list(patch_info.patch_size)))\n",
    "                patch_place = np.zeros((len(data[i])))\n",
    "                patch_place[Match.b:Match.b+Match.size] = patch_column[Match.a:Match.a+Match.size]\n",
    "                column[:,4]=np.where(patch_place>0,1,0)\n",
    "                if not((patch_place==0).all()):\n",
    "                    column[0,3]=round(max(patch_place),1)\n",
    "                    column[:,5]=np.where(patch_place==max(patch_place),1,0)\n",
    "\n",
    "        #Column 6 equals Species\n",
    "        if list_data[i] in species.keys() and species[list_data[i]] in SPEC.keys():\n",
    "            column[0,6+SPEC[species[list_data[i]]]]=1\n",
    "\n",
    "        # Columns 17 equals expression\n",
    "        if list_data[i] in expression.keys() and not(np.isnan(expression[list_data[i]])):\n",
    "            expression_value=round(expression[list_data[i]],1)  \n",
    "            column[0,16]=expression_value\n",
    "            rk=0\n",
    "            for k in EXP[1:]:\n",
    "                if expression_value>=k:\n",
    "                    rk+=1\n",
    "            column[0,17+rk]=1       \n",
    "        new_data[i]=np.c_[data[i],column]\n",
    "\n",
    "    return new_data"
   ]
  },
  {
   "cell_type": "code",
   "execution_count": null,
   "id": "dbccf700-f877-4c77-b717-d59d7f9667b3",
   "metadata": {},
   "outputs": [],
   "source": [
    "if __name__==\"__main__\":\n",
    "    name_train,name_casp,name_cb,name_ts=np.load(r\"/Users/deagogishvili/Documents/PhD/multitask/data/source_dataset/Train_HHblits.npz\")['pdbids'],np.load(r\"/Users/deagogishvili/Documents/PhD/multitask/data/source_dataset/CASP12_HHblits.npz\")['pdbids'],np.load(r\"/Users/deagogishvili/Documents/PhD/multitask/data/source_dataset/CB513_HHblits.npz\")['pdbids'],np.load(r\"/Users/deagogishvili/Documents/PhD/multitask/data/source_dataset/TS115_HHblits.npz\")['pdbids']\n",
    "    data_train,data_casp,data_cb,data_ts=np.load(r\"/Users/deagogishvili/Documents/PhD/multitask/data/source_dataset/Train_HHblits.npz\")['data'],np.load(r\"/Users/deagogishvili/Documents/PhD/multitask/data/source_dataset/CASP12_HHblits.npz\")['data'],np.load(r\"/Users/deagogishvili/Documents/PhD/multitask/data/source_dataset/CB513_HHblits.npz\")['data'],np.load(r\"/Users/deagogishvili/Documents/PhD/multitask/data/source_dataset/TS115_HHblits.npz\")['data']\n",
    "    list_train, list_casp,list_cb,list_ts=get_ASA(data_train,name_train),get_ASA(data_casp,name_casp),get_ASA(data_cb,name_cb),get_ASA(data_ts,name_ts)\n",
    "    np.savez_compressed('/Users/deagogishvili/Documents/PhD/multitask/data/extended/Train_HHblits_extended.npz',pdbids=name_train,data=list_train)\n",
    "    np.savez_compressed('/Users/deagogishvili/Documents/PhD/multitask/data/extended/CASP12_HHblits_extended.npz',pdbids=name_casp,data=list_casp)\n",
    "    np.savez_compressed('/Users/deagogishvili/Documents/PhD/multitask/data/extended/CB513_HHblits_extended.npz',pdbids=name_cb,data=list_cb)\n",
    "    np.savez_compressed('/Users/deagogishvili/Documents/PhD/multitask/data/extended/TS115_HHblits_extended.npz',pdbids=name_ts,data=list_ts)"
   ]
  },
  {
   "cell_type": "code",
   "execution_count": 24,
   "id": "b8f0fc77-c952-469d-8223-470a01b604de",
   "metadata": {},
   "outputs": [],
   "source": [
    "if __name__==\"__main__\":\n",
    "    name_train,name_casp,name_cb,name_ts=np.load(r\"/Users/deagogishvili/Documents/PhD/multitask/data/source_dataset/Train_HHblits.npz\")['pdbids'],np.load(r\"/Users/deagogishvili/Documents/PhD/multitask/data/source_dataset/CASP12_HHblits.npz\")['pdbids'],np.load(r\"/Users/deagogishvili/Documents/PhD/multitask/data/source_dataset/CB513_HHblits.npz\")['pdbids'],np.load(r\"/Users/deagogishvili/Documents/PhD/multitask/data/source_dataset/TS115_HHblits.npz\")['pdbids']\n",
    "    data_train,data_casp,data_cb,data_ts=np.load(r\"/Users/deagogishvili/Documents/PhD/multitask/data/source_dataset/Train_HHblits.npz\")['data'],np.load(r\"/Users/deagogishvili/Documents/PhD/multitask/data/source_dataset/CASP12_HHblits.npz\")['data'],np.load(r\"/Users/deagogishvili/Documents/PhD/multitask/data/source_dataset/CB513_HHblits.npz\")['data'],np.load(r\"/Users/deagogishvili/Documents/PhD/multitask/data/source_dataset/TS115_HHblits.npz\")['data']"
   ]
  },
  {
   "cell_type": "code",
   "execution_count": 40,
   "id": "ee8d6236-614c-4755-b826-3b7d8c4b7298",
   "metadata": {},
   "outputs": [
    {
     "name": "stdout",
     "output_type": "stream",
     "text": [
      "(10848, 1632, 68)\n",
      "(21, 1494, 68)\n",
      "(513, 874, 68)\n",
      "(115, 1111, 68)\n"
     ]
    }
   ],
   "source": [
    "print(data_train.shape)\n",
    "print(data_casp.shape)\n",
    "print(data_cb.shape)\n",
    "print(data_ts.shape)"
   ]
  },
  {
   "cell_type": "code",
   "execution_count": null,
   "id": "1768fa2e-46ff-45ba-967e-9cd1a90c9c41",
   "metadata": {},
   "outputs": [],
   "source": []
  },
  {
   "cell_type": "code",
   "execution_count": null,
   "id": "ca4e5a54-201f-4971-8041-aba4867ae6fd",
   "metadata": {},
   "outputs": [],
   "source": []
  }
 ],
 "metadata": {
  "kernelspec": {
   "display_name": "Python 3 (ipykernel)",
   "language": "python",
   "name": "python3"
  },
  "language_info": {
   "codemirror_mode": {
    "name": "ipython",
    "version": 3
   },
   "file_extension": ".py",
   "mimetype": "text/x-python",
   "name": "python",
   "nbconvert_exporter": "python",
   "pygments_lexer": "ipython3",
   "version": "3.9.7"
  }
 },
 "nbformat": 4,
 "nbformat_minor": 5
}
